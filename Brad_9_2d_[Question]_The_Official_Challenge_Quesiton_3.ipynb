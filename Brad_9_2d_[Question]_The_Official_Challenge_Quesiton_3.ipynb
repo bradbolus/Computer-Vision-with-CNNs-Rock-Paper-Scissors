{
  "nbformat": 4,
  "nbformat_minor": 0,
  "metadata": {
    "colab": {
      "name": "Brad 9.2d_[Question]_The Official Challenge - Quesiton 3.ipynb",
      "provenance": [],
      "collapsed_sections": [
        "A-i0h17-JoXy",
        "KYMCDhXPdPnw",
        "mCgHSJNCWZ9x",
        "4nmNKDe0FIJK"
      ],
      "toc_visible": true
    },
    "kernelspec": {
      "name": "python3",
      "display_name": "Python 3"
    },
    "accelerator": "GPU"
  },
  "cells": [
    {
      "cell_type": "markdown",
      "metadata": {
        "id": "vowv97GdOHMT"
      },
      "source": [
        "<img src=\"https://davewritescode.com/wp-content/uploads/2019/10/20170815-rock-scissors-pixabay-34f3h8kx0ucail5dbcp8n4-1024x607.jpg\" width=600>"
      ]
    },
    {
      "cell_type": "markdown",
      "metadata": {
        "id": "q4iClLjODHQK"
      },
      "source": [
        "Computer Vision with CNNs\n",
        "\n",
        "Build a classifier for Rock-Paper-Scissors based on the rock_paper_scissors TensorFlow dataset.\n"
      ]
    },
    {
      "cell_type": "code",
      "metadata": {
        "id": "gjUIOVyaXyI-"
      },
      "source": [
        "\n",
        "\n",
        "import urllib.request\n",
        "import zipfile\n",
        "import tensorflow as tf\n",
        "from keras_preprocessing.image import ImageDataGenerator"
      ],
      "execution_count": null,
      "outputs": []
    },
    {
      "cell_type": "markdown",
      "metadata": {
        "id": "A-i0h17-JoXy"
      },
      "source": [
        "# Loading Dataset from Kaggle To Try for Myself"
      ]
    },
    {
      "cell_type": "code",
      "metadata": {
        "id": "tIEw2q4_UKMG"
      },
      "source": [
        "import urllib.request\n",
        "import zipfile\n",
        "import tensorflow as tf\n",
        "from keras_preprocessing.image import ImageDataGenerator\n",
        "from keras.preprocessing.image import ImageDataGenerator\n",
        "from keras.applications import densenet\n",
        "from keras.models import Sequential, Model, load_model\n",
        "from keras.layers import Conv2D, MaxPooling2D\n",
        "from keras.layers import Activation, Dropout, Flatten, Dense\n",
        "from keras.callbacks import EarlyStopping, ReduceLROnPlateau, ModelCheckpoint, Callback\n",
        "from keras import regularizers\n",
        "from keras import backend as K\n",
        "import tensorflow as tf\n",
        "from tensorflow import keras\n",
        "from tensorflow.keras.layers import Flatten, Dense, Dropout, Conv2D, MaxPooling2D, AveragePooling2D, Input, BatchNormalization\n",
        "import pandas as pd\n",
        "import seaborn as sns\n",
        "from tensorflow.keras.regularizers import l2\n",
        "import numpy as np\n",
        "from tensorflow.keras.callbacks import ReduceLROnPlateau\n",
        "from tensorflow.keras.optimizers import SGD\n",
        "import matplotlib.pyplot as plt"
      ],
      "execution_count": null,
      "outputs": []
    },
    {
      "cell_type": "code",
      "metadata": {
        "id": "zTKz9Yj4Yiuv"
      },
      "source": [
        "api_token = {\"username\":\"bradleybolus\",\"key\":\"f9ded31baecf6b5012ecf8faacbeaa0d\"}"
      ],
      "execution_count": null,
      "outputs": []
    },
    {
      "cell_type": "code",
      "metadata": {
        "id": "TzTBp-q6av00"
      },
      "source": [
        "import json\n",
        "with open('/root/.kaggle/kaggle.json', 'w') as file:\n",
        "    json.dump(api_token, file)"
      ],
      "execution_count": null,
      "outputs": []
    },
    {
      "cell_type": "code",
      "metadata": {
        "id": "vO5Bg1GMayMH"
      },
      "source": [
        "!chmod 600 /root/.kaggle/kaggle.json"
      ],
      "execution_count": null,
      "outputs": []
    },
    {
      "cell_type": "code",
      "metadata": {
        "colab": {
          "base_uri": "https://localhost:8080/"
        },
        "id": "ggj2JhrQa2f8",
        "outputId": "2f44c48e-335f-4818-ee78-ea8271b81dea"
      },
      "source": [
        "!kaggle datasets download -d sanikamal/rock-paper-scissors-dataset"
      ],
      "execution_count": null,
      "outputs": [
        {
          "output_type": "stream",
          "text": [
            "Downloading rock-paper-scissors-dataset.zip to /content\n",
            " 98% 445M/452M [00:04<00:00, 85.7MB/s]\n",
            "100% 452M/452M [00:04<00:00, 102MB/s] \n"
          ],
          "name": "stdout"
        }
      ]
    },
    {
      "cell_type": "markdown",
      "metadata": {
        "id": "KYMCDhXPdPnw"
      },
      "source": [
        "# Unzipping Image Data from Rock Paper Scissors Dataset"
      ]
    },
    {
      "cell_type": "code",
      "metadata": {
        "id": "8eIB_eFc9V9x"
      },
      "source": [
        "import zipfile\n",
        "import os"
      ],
      "execution_count": null,
      "outputs": []
    },
    {
      "cell_type": "code",
      "metadata": {
        "id": "PLy3pthUS0D2"
      },
      "source": [
        "train_zip_path = \"/content/rock-paper-scissors-dataset.zip\"\n",
        "\n",
        "zip_ref = zipfile.ZipFile(train_zip_path, 'r')\n",
        "\n",
        "zip_ref.extractall('.')\n",
        "zip_ref.close()"
      ],
      "execution_count": null,
      "outputs": []
    },
    {
      "cell_type": "code",
      "metadata": {
        "id": "D-XCfzIAVjjS"
      },
      "source": [
        "base_dir = '/content/Rock-Paper-Scissors'\n",
        "\n",
        "train_dir = os.path.join(base_dir, 'train')\n",
        "test_dir = os.path.join(base_dir, 'test')\n",
        "val_dir = os.path.join(base_dir, 'val')"
      ],
      "execution_count": null,
      "outputs": []
    },
    {
      "cell_type": "code",
      "metadata": {
        "colab": {
          "base_uri": "https://localhost:8080/"
        },
        "id": "RaZYJCq4V8pG",
        "outputId": "e39784ed-4a06-4dcc-926f-c11e4b7d29bb"
      },
      "source": [
        "print(train_dir)\n",
        "print(val_dir)\n",
        "print(test_dir)"
      ],
      "execution_count": null,
      "outputs": [
        {
          "output_type": "stream",
          "text": [
            "/content/Rock-Paper-Scissors/train\n",
            "/content/Rock-Paper-Scissors/val\n",
            "/content/Rock-Paper-Scissors/test\n"
          ],
          "name": "stdout"
        }
      ]
    },
    {
      "cell_type": "code",
      "metadata": {
        "colab": {
          "base_uri": "https://localhost:8080/"
        },
        "id": "PghG8Q4_X9J_",
        "outputId": "8fe9d9f3-1ff3-40d0-b619-5cfda0d049ee"
      },
      "source": [
        "len(train_dir)\n"
      ],
      "execution_count": null,
      "outputs": [
        {
          "output_type": "execute_result",
          "data": {
            "text/plain": [
              "34"
            ]
          },
          "metadata": {
            "tags": []
          },
          "execution_count": 14
        }
      ]
    },
    {
      "cell_type": "code",
      "metadata": {
        "colab": {
          "base_uri": "https://localhost:8080/"
        },
        "id": "Tgq47NPfYEfR",
        "outputId": "d2623430-8b69-4f01-e519-4f824493760b"
      },
      "source": [
        "len(val_dir)\n"
      ],
      "execution_count": null,
      "outputs": [
        {
          "output_type": "execute_result",
          "data": {
            "text/plain": [
              "32"
            ]
          },
          "metadata": {
            "tags": []
          },
          "execution_count": 15
        }
      ]
    },
    {
      "cell_type": "code",
      "metadata": {
        "colab": {
          "base_uri": "https://localhost:8080/"
        },
        "id": "Rl00CfH3YF4B",
        "outputId": "ffe1197a-487e-4bc6-d18c-29af74a4256f"
      },
      "source": [
        "len(test_dir)"
      ],
      "execution_count": null,
      "outputs": [
        {
          "output_type": "execute_result",
          "data": {
            "text/plain": [
              "33"
            ]
          },
          "metadata": {
            "tags": []
          },
          "execution_count": 16
        }
      ]
    },
    {
      "cell_type": "markdown",
      "metadata": {
        "id": "mCgHSJNCWZ9x"
      },
      "source": [
        "# Model 1: Baseline Model"
      ]
    },
    {
      "cell_type": "code",
      "metadata": {
        "id": "twVI5EFIWdXl"
      },
      "source": [
        "model_base = tf.keras.models.Sequential([\n",
        "\n",
        "Conv2D(32,kernel_size=(3,3),input_shape=(150,150,3),activation='relu'),\n",
        "MaxPooling2D(pool_size =(2,2),strides=2),\n",
        "Conv2D(32,kernel_size=(3,3),activation='relu'),\n",
        "MaxPooling2D(pool_size =(2,2),strides=2),\n",
        "Conv2D(32,kernel_size=(3,3),activation='relu'),\n",
        "MaxPooling2D(pool_size =(2,2),strides=2),\n",
        "Conv2D(32,kernel_size=(3,3),activation='relu'),\n",
        "MaxPooling2D(pool_size =(2,2),strides=2),\n",
        "Conv2D(32,kernel_size=(3,3),activation='relu'),\n",
        "MaxPooling2D(pool_size =(2,2),strides=2),\n",
        "Flatten(),\n",
        "\n",
        "Dense(units=256,activation='relu'),\n",
        "Dense(units=256,activation='relu'),\n",
        "Dense(units=256,activation='relu'),\n",
        "Dense(units=128,activation='relu'),\n",
        "Dense(units=64,activation='relu'),\n",
        "Dense(units=32,activation='relu'),\n",
        "Dense(units=3,activation='softmax')])"
      ],
      "execution_count": null,
      "outputs": []
    },
    {
      "cell_type": "code",
      "metadata": {
        "colab": {
          "base_uri": "https://localhost:8080/"
        },
        "id": "tuvK8ykMW7jG",
        "outputId": "abf8e7db-f3f1-42ae-cfbf-a7148bde4469"
      },
      "source": [
        "model_base.summary()"
      ],
      "execution_count": null,
      "outputs": [
        {
          "output_type": "stream",
          "text": [
            "Model: \"sequential\"\n",
            "_________________________________________________________________\n",
            "Layer (type)                 Output Shape              Param #   \n",
            "=================================================================\n",
            "conv2d (Conv2D)              (None, 148, 148, 32)      896       \n",
            "_________________________________________________________________\n",
            "max_pooling2d (MaxPooling2D) (None, 74, 74, 32)        0         \n",
            "_________________________________________________________________\n",
            "conv2d_1 (Conv2D)            (None, 72, 72, 32)        9248      \n",
            "_________________________________________________________________\n",
            "max_pooling2d_1 (MaxPooling2 (None, 36, 36, 32)        0         \n",
            "_________________________________________________________________\n",
            "conv2d_2 (Conv2D)            (None, 34, 34, 32)        9248      \n",
            "_________________________________________________________________\n",
            "max_pooling2d_2 (MaxPooling2 (None, 17, 17, 32)        0         \n",
            "_________________________________________________________________\n",
            "conv2d_3 (Conv2D)            (None, 15, 15, 32)        9248      \n",
            "_________________________________________________________________\n",
            "max_pooling2d_3 (MaxPooling2 (None, 7, 7, 32)          0         \n",
            "_________________________________________________________________\n",
            "conv2d_4 (Conv2D)            (None, 5, 5, 32)          9248      \n",
            "_________________________________________________________________\n",
            "max_pooling2d_4 (MaxPooling2 (None, 2, 2, 32)          0         \n",
            "_________________________________________________________________\n",
            "flatten (Flatten)            (None, 128)               0         \n",
            "_________________________________________________________________\n",
            "dense (Dense)                (None, 256)               33024     \n",
            "_________________________________________________________________\n",
            "dense_1 (Dense)              (None, 256)               65792     \n",
            "_________________________________________________________________\n",
            "dense_2 (Dense)              (None, 256)               65792     \n",
            "_________________________________________________________________\n",
            "dense_3 (Dense)              (None, 128)               32896     \n",
            "_________________________________________________________________\n",
            "dense_4 (Dense)              (None, 64)                8256      \n",
            "_________________________________________________________________\n",
            "dense_5 (Dense)              (None, 32)                2080      \n",
            "_________________________________________________________________\n",
            "dense_6 (Dense)              (None, 3)                 99        \n",
            "=================================================================\n",
            "Total params: 245,827\n",
            "Trainable params: 245,827\n",
            "Non-trainable params: 0\n",
            "_________________________________________________________________\n"
          ],
          "name": "stdout"
        }
      ]
    },
    {
      "cell_type": "code",
      "metadata": {
        "colab": {
          "base_uri": "https://localhost:8080/"
        },
        "id": "Be2AsqmEXNCt",
        "outputId": "38d19ba2-90ae-4dad-84f1-43ba09b77cea"
      },
      "source": [
        "train_data_dir = \"/content/Rock-Paper-Scissors/train\"\n",
        "val_data_dir = \"/content/Rock-Paper-Scissors/validation\"\n",
        "test_data_dir = \"/content/Rock-Paper-Scissors/test\"\n",
        "\n",
        "train_datagen = ImageDataGenerator(\n",
        "    rescale= 1./ 255,\n",
        "    shear_range=0.2,\n",
        "    zoom_range=0.2,\n",
        "    rotation_range = 40,\n",
        "    width_shift_range=0.2,\n",
        "    height_shift_range=0.2,\n",
        "    horizontal_flip=True,\n",
        "    fill_mode = \"nearest\")\n",
        "# Try 0.1\n",
        "test_datagen = ImageDataGenerator(rescale=1. / 255)\n",
        "\n",
        "train_generator = train_datagen.flow_from_directory(\n",
        "    train_data_dir,\n",
        "    target_size=(150, 150),\n",
        "    batch_size=32,\n",
        "    class_mode='categorical')\n",
        "\n",
        "test_generator = test_datagen.flow_from_directory(\n",
        "    test_data_dir,\n",
        "    target_size=(150, 150),\n",
        "    batch_size=32,\n",
        "    class_mode='categorical')"
      ],
      "execution_count": null,
      "outputs": [
        {
          "output_type": "stream",
          "text": [
            "Found 2520 images belonging to 3 classes.\n",
            "Found 372 images belonging to 3 classes.\n"
          ],
          "name": "stdout"
        }
      ]
    },
    {
      "cell_type": "code",
      "metadata": {
        "id": "HqPkcWT0W_P4"
      },
      "source": [
        "model_base.compile(optimizer = 'adam', loss = \"categorical_crossentropy\", metrics = ['accuracy'])"
      ],
      "execution_count": null,
      "outputs": []
    },
    {
      "cell_type": "code",
      "metadata": {
        "id": "Pq5hbJvpfLXY"
      },
      "source": [
        "checkpoint_callback = tf.keras.callbacks.ModelCheckpoint(filepath=\"brad_best_rock.h5\",\n",
        "                                                 save_weights_only=False, # the whole model (False) or only weights (True) \n",
        "                                                 save_best_only=True, # keep the best model with lowest validation loss\n",
        "                                                 monitor='val_loss',\n",
        "                                                 verbose=1)"
      ],
      "execution_count": null,
      "outputs": []
    },
    {
      "cell_type": "code",
      "metadata": {
        "colab": {
          "base_uri": "https://localhost:8080/"
        },
        "id": "TIw3UlaIY4--",
        "outputId": "f522d154-7c8d-4a19-cd2e-24ce72f72fbe"
      },
      "source": [
        "history_base = model_base.fit(train_generator, validation_data=test_generator, callbacks = checkpoint_callback,\n",
        "                    epochs=6,\n",
        "                    verbose=2)"
      ],
      "execution_count": null,
      "outputs": [
        {
          "output_type": "stream",
          "text": [
            "Epoch 1/6\n",
            "79/79 - 23s - loss: 0.2073 - accuracy: 0.9266 - val_loss: 0.0771 - val_accuracy: 0.9624\n",
            "\n",
            "Epoch 00001: val_loss improved from inf to 0.07711, saving model to brad_best_rock.h5\n",
            "Epoch 2/6\n",
            "79/79 - 21s - loss: 0.1810 - accuracy: 0.9294 - val_loss: 0.1856 - val_accuracy: 0.9409\n",
            "\n",
            "Epoch 00002: val_loss did not improve from 0.07711\n",
            "Epoch 3/6\n",
            "79/79 - 21s - loss: 0.1269 - accuracy: 0.9552 - val_loss: 0.1752 - val_accuracy: 0.9462\n",
            "\n",
            "Epoch 00003: val_loss did not improve from 0.07711\n",
            "Epoch 4/6\n",
            "79/79 - 21s - loss: 0.1565 - accuracy: 0.9464 - val_loss: 0.0668 - val_accuracy: 0.9677\n",
            "\n",
            "Epoch 00004: val_loss improved from 0.07711 to 0.06684, saving model to brad_best_rock.h5\n",
            "Epoch 5/6\n",
            "79/79 - 21s - loss: 0.1355 - accuracy: 0.9504 - val_loss: 0.1839 - val_accuracy: 0.9382\n",
            "\n",
            "Epoch 00005: val_loss did not improve from 0.06684\n",
            "Epoch 6/6\n",
            "79/79 - 21s - loss: 0.1252 - accuracy: 0.9548 - val_loss: 0.1104 - val_accuracy: 0.9543\n",
            "\n",
            "Epoch 00006: val_loss did not improve from 0.06684\n"
          ],
          "name": "stdout"
        }
      ]
    },
    {
      "cell_type": "code",
      "metadata": {
        "colab": {
          "base_uri": "https://localhost:8080/"
        },
        "id": "TQZdBgDgZlsm",
        "outputId": "dd2ae6ef-ec80-4b06-a48d-ee5b71a6dfb8"
      },
      "source": [
        "model_base.evaluate(test_generator)"
      ],
      "execution_count": null,
      "outputs": [
        {
          "output_type": "stream",
          "text": [
            "12/12 [==============================] - 1s 105ms/step - loss: 0.1104 - accuracy: 0.9543\n"
          ],
          "name": "stdout"
        },
        {
          "output_type": "execute_result",
          "data": {
            "text/plain": [
              "[0.11036036163568497, 0.9543010592460632]"
            ]
          },
          "metadata": {
            "tags": []
          },
          "execution_count": 28
        }
      ]
    },
    {
      "cell_type": "code",
      "metadata": {
        "id": "eYPGmI5EfW7c",
        "colab": {
          "base_uri": "https://localhost:8080/"
        },
        "outputId": "a0207231-473c-47eb-d3f9-7b91c1a40e51"
      },
      "source": [
        "# Recreate the exact same model, including its weights and the optimizer\n",
        "restored_model = tf.keras.models.load_model('brad_best_rock.h5')\n",
        "\n",
        "# Show the model architecture\n",
        "restored_model.summary()\n",
        "\n",
        "# We need to define its optimizer and loss function again since the h5 file\n",
        "# does not contain those information :(\n",
        "restored_model.compile(optimizer=\"adam\",\n",
        "              loss='categorical_crossentropy',\n",
        "              metrics = ['accuracy'])\n",
        "\n",
        "# Re-evaluate the model\n",
        "loss, acc = restored_model.evaluate(test_generator)\n",
        "print(\"Restored model, accuracy: {:5.2f}%\".format(100*acc))"
      ],
      "execution_count": null,
      "outputs": [
        {
          "output_type": "stream",
          "text": [
            "Model: \"sequential\"\n",
            "_________________________________________________________________\n",
            "Layer (type)                 Output Shape              Param #   \n",
            "=================================================================\n",
            "conv2d (Conv2D)              (None, 148, 148, 32)      896       \n",
            "_________________________________________________________________\n",
            "max_pooling2d (MaxPooling2D) (None, 74, 74, 32)        0         \n",
            "_________________________________________________________________\n",
            "conv2d_1 (Conv2D)            (None, 72, 72, 32)        9248      \n",
            "_________________________________________________________________\n",
            "max_pooling2d_1 (MaxPooling2 (None, 36, 36, 32)        0         \n",
            "_________________________________________________________________\n",
            "conv2d_2 (Conv2D)            (None, 34, 34, 32)        9248      \n",
            "_________________________________________________________________\n",
            "max_pooling2d_2 (MaxPooling2 (None, 17, 17, 32)        0         \n",
            "_________________________________________________________________\n",
            "conv2d_3 (Conv2D)            (None, 15, 15, 32)        9248      \n",
            "_________________________________________________________________\n",
            "max_pooling2d_3 (MaxPooling2 (None, 7, 7, 32)          0         \n",
            "_________________________________________________________________\n",
            "conv2d_4 (Conv2D)            (None, 5, 5, 32)          9248      \n",
            "_________________________________________________________________\n",
            "max_pooling2d_4 (MaxPooling2 (None, 2, 2, 32)          0         \n",
            "_________________________________________________________________\n",
            "flatten (Flatten)            (None, 128)               0         \n",
            "_________________________________________________________________\n",
            "dense (Dense)                (None, 256)               33024     \n",
            "_________________________________________________________________\n",
            "dense_1 (Dense)              (None, 256)               65792     \n",
            "_________________________________________________________________\n",
            "dense_2 (Dense)              (None, 256)               65792     \n",
            "_________________________________________________________________\n",
            "dense_3 (Dense)              (None, 128)               32896     \n",
            "_________________________________________________________________\n",
            "dense_4 (Dense)              (None, 64)                8256      \n",
            "_________________________________________________________________\n",
            "dense_5 (Dense)              (None, 32)                2080      \n",
            "_________________________________________________________________\n",
            "dense_6 (Dense)              (None, 3)                 99        \n",
            "=================================================================\n",
            "Total params: 245,827\n",
            "Trainable params: 245,827\n",
            "Non-trainable params: 0\n",
            "_________________________________________________________________\n",
            "12/12 [==============================] - 2s 107ms/step - loss: 0.0668 - accuracy: 0.9677\n",
            "Restored model, accuracy: 96.77%\n"
          ],
          "name": "stdout"
        }
      ]
    },
    {
      "cell_type": "code",
      "metadata": {
        "id": "UMGSzq6sX354",
        "colab": {
          "base_uri": "https://localhost:8080/"
        },
        "outputId": "71f3e69e-2cde-4db7-9682-568d010c8a68"
      },
      "source": [
        "def solution_model():\n",
        "  url = 'https://storage.googleapis.com/download.tensorflow.org/data/rps.zip'\n",
        "  urllib.request.urlretrieve(url, 'rps.zip')\n",
        "  local_zip = 'rps.zip'\n",
        "  zip_ref = zipfile.ZipFile(local_zip, 'r')\n",
        "  zip_ref.extractall('tmp/')\n",
        "  zip_ref.close()\n",
        "\n",
        "  ##################################\n",
        "  \n",
        "  TRAINING_DIR = \"tmp/rps/\"\n",
        "  \n",
        "  train_datagen = ImageDataGenerator(\n",
        "  rescale= 1./ 255,\n",
        "  shear_range=0.2,\n",
        "  zoom_range=0.2,\n",
        "  rotation_range = 40,\n",
        "  width_shift_range=0.2,\n",
        "  height_shift_range=0.2,\n",
        "  horizontal_flip=True,\n",
        "  fill_mode = \"nearest\")\n",
        "\n",
        "  test_datagen = ImageDataGenerator(rescale=1. / 255)\n",
        "\n",
        "  train_generator = train_datagen.flow_from_directory(\n",
        "      TRAINING_DIR,\n",
        "      target_size=(150, 150),\n",
        "      batch_size=32,\n",
        "      class_mode='categorical')\n",
        "  \n",
        "  #######################################\n",
        "  \n",
        "  model = tf.keras.models.Sequential([\n",
        "\n",
        "  Conv2D(32,kernel_size=(3,3),input_shape=(150,150,3),activation='relu'),\n",
        "  MaxPooling2D(pool_size =(2,2),strides=2),\n",
        "  Conv2D(32,kernel_size=(3,3),activation='relu'),\n",
        "  MaxPooling2D(pool_size =(2,2),strides=2),\n",
        "  Conv2D(32,kernel_size=(3,3),activation='relu'),\n",
        "  MaxPooling2D(pool_size =(2,2),strides=2),\n",
        "  Conv2D(32,kernel_size=(3,3),activation='relu'),\n",
        "  MaxPooling2D(pool_size =(2,2),strides=2),\n",
        "  Conv2D(32,kernel_size=(3,3),activation='relu'),\n",
        "  MaxPooling2D(pool_size =(2,2),strides=2),\n",
        "  Flatten(),\n",
        "\n",
        "  Dense(units=256,activation='relu'),\n",
        "  Dense(units=256,activation='relu'),\n",
        "  Dense(units=256,activation='relu'),\n",
        "  Dense(units=128,activation='relu'),\n",
        "  Dense(units=64,activation='relu'),\n",
        "  Dense(units=32,activation='relu'),\n",
        "  Dense(units=3,activation='softmax')])\n",
        "\n",
        "  #######################################\n",
        "  \n",
        "  model.compile(optimizer = 'adam', loss = \"categorical_crossentropy\", metrics = ['accuracy'])\n",
        "  \n",
        "  #######################################\n",
        "\n",
        "  model.fit(train_generator,epochs=6,verbose=2)\n",
        "\n",
        "  return model\n",
        "\n",
        "if __name__ == '__main__':\n",
        "  model = solution_model()\n",
        "  model.save(\"brad_rock_1.h5\")"
      ],
      "execution_count": null,
      "outputs": [
        {
          "output_type": "stream",
          "text": [
            "Found 2520 images belonging to 3 classes.\n",
            "Epoch 1/6\n",
            "79/79 - 21s - loss: 1.0639 - accuracy: 0.3913\n",
            "Epoch 2/6\n",
            "79/79 - 20s - loss: 0.8811 - accuracy: 0.5563\n",
            "Epoch 3/6\n",
            "79/79 - 21s - loss: 0.6441 - accuracy: 0.7063\n",
            "Epoch 4/6\n",
            "79/79 - 21s - loss: 0.5324 - accuracy: 0.7591\n",
            "Epoch 5/6\n",
            "79/79 - 20s - loss: 0.4617 - accuracy: 0.8099\n",
            "Epoch 6/6\n",
            "79/79 - 20s - loss: 0.3415 - accuracy: 0.8635\n"
          ],
          "name": "stdout"
        }
      ]
    },
    {
      "cell_type": "code",
      "metadata": {
        "colab": {
          "base_uri": "https://localhost:8080/"
        },
        "id": "Sigb6a2mqDFy",
        "outputId": "4d851dfd-b324-434b-fec4-07cf26de17c8"
      },
      "source": [
        "model.fit(train_generator,epochs=6,verbose=2)"
      ],
      "execution_count": null,
      "outputs": [
        {
          "output_type": "stream",
          "text": [
            "Epoch 1/6\n",
            "79/79 - 20s - loss: 0.2289 - accuracy: 0.9179\n",
            "Epoch 2/6\n",
            "79/79 - 20s - loss: 0.2360 - accuracy: 0.9107\n",
            "Epoch 3/6\n",
            "79/79 - 20s - loss: 0.1565 - accuracy: 0.9488\n",
            "Epoch 4/6\n",
            "79/79 - 20s - loss: 0.1468 - accuracy: 0.9552\n",
            "Epoch 5/6\n",
            "79/79 - 20s - loss: 0.1363 - accuracy: 0.9528\n",
            "Epoch 6/6\n",
            "79/79 - 20s - loss: 0.1164 - accuracy: 0.9611\n"
          ],
          "name": "stdout"
        },
        {
          "output_type": "execute_result",
          "data": {
            "text/plain": [
              "<tensorflow.python.keras.callbacks.History at 0x7fef11666790>"
            ]
          },
          "metadata": {
            "tags": []
          },
          "execution_count": 41
        }
      ]
    },
    {
      "cell_type": "code",
      "metadata": {
        "id": "LfNmoIhsrM17"
      },
      "source": [
        "model.save(\"brad_rock_2.h5\")"
      ],
      "execution_count": null,
      "outputs": []
    },
    {
      "cell_type": "markdown",
      "metadata": {
        "id": "r0BcECPZEvNU"
      },
      "source": [
        "# Model 1 Results: 96 %"
      ]
    },
    {
      "cell_type": "markdown",
      "metadata": {
        "id": "4nmNKDe0FIJK"
      },
      "source": [
        "# Model 2: Xception"
      ]
    },
    {
      "cell_type": "code",
      "metadata": {
        "id": "V4LtrTKQPJrp"
      },
      "source": [
        "from tensorflow import keras"
      ],
      "execution_count": null,
      "outputs": []
    },
    {
      "cell_type": "code",
      "metadata": {
        "colab": {
          "base_uri": "https://localhost:8080/"
        },
        "id": "2vl4NV5bFGg6",
        "outputId": "5b65b983-8de6-42cc-bd12-502991a72f90"
      },
      "source": [
        "def solution_model():\n",
        "  url = 'https://storage.googleapis.com/download.tensorflow.org/data/rps.zip'\n",
        "  urllib.request.urlretrieve(url, 'rps.zip')\n",
        "  local_zip = 'rps.zip'\n",
        "  zip_ref = zipfile.ZipFile(local_zip, 'r')\n",
        "  zip_ref.extractall('tmp/')\n",
        "  zip_ref.close()\n",
        "\n",
        "  ##################################\n",
        "  \n",
        "  TRAINING_DIR = \"tmp/rps/\"\n",
        "  \n",
        "  train_datagen = ImageDataGenerator(\n",
        "  rescale= 1./ 255,\n",
        "  shear_range=0.2,\n",
        "  zoom_range=0.2,\n",
        "  rotation_range = 40,\n",
        "  width_shift_range=0.2,\n",
        "  height_shift_range=0.2,\n",
        "  horizontal_flip=True,\n",
        "  fill_mode = \"nearest\")\n",
        "\n",
        "  test_datagen = ImageDataGenerator(rescale=1. / 255)\n",
        "\n",
        "  train_generator = train_datagen.flow_from_directory(\n",
        "      TRAINING_DIR,\n",
        "      target_size=(150, 150),\n",
        "      batch_size=32,\n",
        "      class_mode='categorical')\n",
        "  \n",
        "  #######################################\n",
        "  model_X = keras.applications.Xception(\n",
        "  weights='imagenet',  # Load weights pre-trained on ImageNet.\n",
        "  input_shape=(150, 150, 3),\n",
        "  include_top=False)  #\n",
        "\n",
        "\n",
        "  model_X.trainable = False\n",
        "\n",
        "  inputs = keras.Input(shape=(150, 150, 3))\n",
        "\n",
        "  x = model_X(inputs, training=False)\n",
        "\n",
        "  x = keras.layers.GlobalAveragePooling2D()(x)\n",
        "\n",
        "  outputs = keras.layers.Dense(3, activation = \"softmax\")(x)\n",
        "  model_X = keras.Model(inputs, outputs)\n",
        "\n",
        "  #######################################\n",
        "  \n",
        "  model_X.compile(optimizer = 'adam', loss = \"categorical_crossentropy\", metrics = ['accuracy'])\n",
        "  \n",
        "  #######################################\n",
        "\n",
        "  model_X.fit(train_generator,epochs=10,verbose=2)\n",
        "\n",
        "  return model_X\n",
        "\n",
        "if __name__ == '__main__':\n",
        "  model_X = solution_model()\n",
        "  model_X.save(\"brad_rock_X.h5\")"
      ],
      "execution_count": null,
      "outputs": [
        {
          "output_type": "stream",
          "text": [
            "Found 2520 images belonging to 3 classes.\n",
            "Epoch 1/10\n",
            "79/79 - 19s - loss: 0.5462 - accuracy: 0.7956\n",
            "Epoch 2/10\n",
            "79/79 - 17s - loss: 0.2813 - accuracy: 0.9202\n",
            "Epoch 3/10\n",
            "79/79 - 17s - loss: 0.2121 - accuracy: 0.9405\n",
            "Epoch 4/10\n",
            "79/79 - 17s - loss: 0.1673 - accuracy: 0.9587\n",
            "Epoch 5/10\n",
            "79/79 - 17s - loss: 0.1515 - accuracy: 0.9540\n",
            "Epoch 6/10\n",
            "79/79 - 17s - loss: 0.1333 - accuracy: 0.9655\n",
            "Epoch 7/10\n",
            "79/79 - 17s - loss: 0.1154 - accuracy: 0.9734\n",
            "Epoch 8/10\n",
            "79/79 - 17s - loss: 0.1047 - accuracy: 0.9770\n",
            "Epoch 9/10\n",
            "79/79 - 17s - loss: 0.1023 - accuracy: 0.9706\n",
            "Epoch 10/10\n",
            "79/79 - 17s - loss: 0.0983 - accuracy: 0.9718\n"
          ],
          "name": "stdout"
        },
        {
          "output_type": "stream",
          "text": [
            "/usr/local/lib/python3.7/dist-packages/tensorflow/python/keras/utils/generic_utils.py:497: CustomMaskWarning: Custom mask layers require a config and must override get_config. When loading, the custom mask layer must be passed to the custom_objects argument.\n",
            "  category=CustomMaskWarning)\n"
          ],
          "name": "stderr"
        }
      ]
    },
    {
      "cell_type": "markdown",
      "metadata": {
        "id": "5NSmRIL7Svl_"
      },
      "source": [
        "# XCeption Results 97 %"
      ]
    }
  ]
}